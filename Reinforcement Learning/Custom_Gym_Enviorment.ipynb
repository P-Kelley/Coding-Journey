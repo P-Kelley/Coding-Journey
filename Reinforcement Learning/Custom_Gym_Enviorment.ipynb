{
 "cells": [
  {
   "cell_type": "code",
   "execution_count": 1,
   "metadata": {},
   "outputs": [],
   "source": [
    "import gym"
   ]
  },
  {
   "cell_type": "code",
   "execution_count": 3,
   "metadata": {},
   "outputs": [
    {
     "ename": "SyntaxError",
     "evalue": "invalid syntax (3419017992.py, line 4)",
     "output_type": "error",
     "traceback": [
      "\u001b[1;36m  Cell \u001b[1;32mIn[3], line 4\u001b[1;36m\u001b[0m\n\u001b[1;33m    self.action_space =\u001b[0m\n\u001b[1;37m                        ^\u001b[0m\n\u001b[1;31mSyntaxError\u001b[0m\u001b[1;31m:\u001b[0m invalid syntax\n"
     ]
    }
   ],
   "source": [
    "class InventoryEnv(gym.Env):\n",
    "    def __init__(self):\n",
    "        #Have to define observation and action spaces\n",
    "        self.action_space = \n",
    "        self.observation_space = \n",
    "    \n",
    "    def reset(self):\n",
    "        #reset to initial state\n",
    "        raise NotImplementedError\n",
    "    \n",
    "    def step(self,action):\n",
    "        #Returns next observation, reward, and any addition info\n",
    "        pass\n",
    "\n",
    "    def render(self,mode = \"human\"):\n",
    "        #optional. Displays a enviorment state for a human to look at, can be left empty if you don't want to do this\n",
    "        pass\n",
    "\n",
    "    def close(self):\n",
    "        #optional. Cleans up all resources (threads, graphics windows, ect)\n",
    "        pass\n",
    "    def seed(self, seed = None):\n",
    "        #returns list of seeds for rng determinatic behavior\n",
    "        pass\n",
    "\n",
    "    "
   ]
  },
  {
   "cell_type": "code",
   "execution_count": null,
   "metadata": {},
   "outputs": [],
   "source": []
  },
  {
   "cell_type": "code",
   "execution_count": null,
   "metadata": {},
   "outputs": [],
   "source": []
  },
  {
   "cell_type": "code",
   "execution_count": null,
   "metadata": {},
   "outputs": [],
   "source": []
  },
  {
   "cell_type": "code",
   "execution_count": null,
   "metadata": {},
   "outputs": [],
   "source": []
  }
 ],
 "metadata": {
  "kernelspec": {
   "display_name": "Python 3",
   "language": "python",
   "name": "python3"
  },
  "language_info": {
   "codemirror_mode": {
    "name": "ipython",
    "version": 3
   },
   "file_extension": ".py",
   "mimetype": "text/x-python",
   "name": "python",
   "nbconvert_exporter": "python",
   "pygments_lexer": "ipython3",
   "version": "3.11.3"
  },
  "orig_nbformat": 4
 },
 "nbformat": 4,
 "nbformat_minor": 2
}
